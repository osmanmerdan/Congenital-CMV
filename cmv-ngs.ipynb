{
 "cells": [
  {
   "attachments": {},
   "cell_type": "markdown",
   "metadata": {},
   "source": [
    "## Congenital CMV - NGS Data Analysis Python Scripts\n",
    "***"
   ]
  },
  {
   "attachments": {},
   "cell_type": "markdown",
   "metadata": {},
   "source": [
    "### Repeated Regions in CMV _wild type_ Merlin Genome"
   ]
  },
  {
   "attachments": {},
   "cell_type": "markdown",
   "metadata": {},
   "source": [
    "- Get CMV wild type Merlin GenBank (AY446894.2) record.\\\n",
    "- Get summary of the record. "
   ]
  },
  {
   "cell_type": "code",
   "execution_count": 1,
   "metadata": {},
   "outputs": [
    {
     "name": "stdout",
     "output_type": "stream",
     "text": [
      "ID:  AY446894.2\n",
      "Name:  AY446894\n",
      "Description:  Human herpesvirus 5 strain Merlin, complete genome\n",
      "Genome Size (bp): 235646\n"
     ]
    }
   ],
   "source": [
    "# Load SeqIO class from Bio package\n",
    "from Bio import SeqIO\n",
    "# Create genbank object using read method of SeqIO class\n",
    "genbank_object=SeqIO.read(\"./ref/cmv_merlin.gb\", \"genbank\")\n",
    "# Print summary of genbank record.\n",
    "print('ID: ', genbank_object.id)\n",
    "print('Name: ', genbank_object.name)\n",
    "print('Description: ', genbank_object.description)\n",
    "print('Genome Size (bp):',len(genbank_object.seq))"
   ]
  },
  {
   "attachments": {},
   "cell_type": "markdown",
   "metadata": {},
   "source": [
    "- Get unique feature types. "
   ]
  },
  {
   "cell_type": "code",
   "execution_count": 25,
   "metadata": {},
   "outputs": [
    {
     "name": "stdout",
     "output_type": "stream",
     "text": [
      "['CDS', 'variation', 'gene', 'misc_feature', 'regulatory', 'mRNA', 'ncRNA', 'polyA_site', 'source', 'repeat_region', 'intron', 'rep_origin']\n"
     ]
    }
   ],
   "source": [
    "# Get list of all feature types\n",
    "feature_types=[i.type for i in genbank_object.features]\n",
    "# Build an unordered collection of unique elements.\n",
    "feature_types=set(feature_types)\n",
    "# Convert set to list\n",
    "feature_types=list(feature_types)\n",
    "\n",
    "print(feature_types)"
   ]
  },
  {
   "attachments": {},
   "cell_type": "markdown",
   "metadata": {},
   "source": [
    "- Number of repeat regions in AY446894.2"
   ]
  },
  {
   "cell_type": "code",
   "execution_count": 26,
   "metadata": {},
   "outputs": [
    {
     "data": {
      "text/plain": [
       "8"
      ]
     },
     "execution_count": 26,
     "metadata": {},
     "output_type": "execute_result"
    }
   ],
   "source": [
    "[i.type for i in genbank_object.features].count('repeat_region')"
   ]
  },
  {
   "attachments": {},
   "cell_type": "markdown",
   "metadata": {},
   "source": [
    "- Writing repeat regions to a file "
   ]
  },
  {
   "cell_type": "code",
   "execution_count": 46,
   "metadata": {},
   "outputs": [],
   "source": [
    "with open('repeat_regions_file.txt', 'w') as f:\n",
    "    for feature in genbank_object.features:\n",
    "        if feature.type=='repeat_region':\n",
    "            line=f\"{feature.type}\\t{feature.qualifiers['note'][0]}\\t{feature.qualifiers.get('rpt_type')}\\t{feature.location}\"\n",
    "            f.write(line+'\\n')\n",
    "f.close()"
   ]
  },
  {
   "attachments": {},
   "cell_type": "markdown",
   "metadata": {},
   "source": [
    "### Genes with High Number of Non-synonimous Missense Mutations\n",
    "Gene names obtained from variant analysis.\\\n",
    "Theese genes have at least mean number of 10 mutations "
   ]
  },
  {
   "cell_type": "code",
   "execution_count": 45,
   "metadata": {},
   "outputs": [],
   "source": [
    "\n",
    "Gene_Names=['RL1','RL10','RL12','RL13','RL5A','UL1','UL11','UL116','UL119',\n",
    "  'UL120','UL122','UL123','UL13','UL132','UL133','UL142','UL144','UL147',\n",
    "  'UL150','UL150A','UL20','UL32','UL33','UL37','UL4','UL40','UL48','UL55',  \n",
    "  'UL6','UL7','UL74','UL75','UL77','UL8','UL80','UL87','UL9','US27','US34','US7']\n",
    "\n",
    "with open(file='high_number_sps.txt', mode='w') as document: \n",
    "    for feature in genbank_object.features:\n",
    "        if (feature.qualifiers.get('gene') in [[i] for i in Gene_Names]) and feature.type=='CDS':\n",
    "            print(feature.qualifiers['gene'][0],\n",
    "            feature.location,\n",
    "            feature.qualifiers['product'][0],\n",
    "            feature.qualifiers.get('note',['None'])[0],\n",
    "            sep='\\t',\n",
    "            file=document)\n",
    "document.close()"
   ]
  },
  {
   "cell_type": "code",
   "execution_count": 32,
   "metadata": {},
   "outputs": [],
   "source": [
    "from Bio.Seq import Seq\n",
    "from Bio import SeqIO\n",
    "genbank_object=SeqIO.read(\"./ref/cmv_merlin.gb\", \"genbank\")\n",
    "for feature in genbank_object.features:\n",
    "    if feature.type=='CDS' and feature.qualifiers['gene']==['UL8']:\n",
    "        IL8_prot = feature.qualifiers['translation']\n",
    "#print(IL8_prot)\n",
    "IL8_prot = Seq(IL8_prot[0])"
   ]
  },
  {
   "cell_type": "code",
   "execution_count": 34,
   "metadata": {},
   "outputs": [
    {
     "name": "stdout",
     "output_type": "stream",
     "text": [
      "MASDVGSHPLTVTRFRCRVHYVYNKLLILTLFAPVILESVIYVSGPQGGNVTLVSNFTSNISARWFRWDGNDSHLICFYKRGEGLSTPYVGLSLSCAANQITIFNLTLNDSGRYGAEGFTRSGENETFLWYNLTVKPKPLETTPASNVTTIVTTTSTVTDAKSNVTGNVSLAPQLRAVAGFSHQTPLENNTHLALGEGFVPTMTSSRLSASENYDGNYEFTETANTTRTNTSDWITLGSSASLLKSTETAVNLSNATTVIPQPVEYPAGGVQYQRAATHYSWMLIIVIILIIFIIICLRAPRKIYHHWKDSKQYGQVFMTDTEL\n"
     ]
    }
   ],
   "source": [
    "print(IL8_prot)"
   ]
  },
  {
   "cell_type": "code",
   "execution_count": null,
   "metadata": {},
   "outputs": [],
   "source": []
  }
 ],
 "metadata": {
  "kernelspec": {
   "display_name": "bioinfo",
   "language": "python",
   "name": "python3"
  },
  "language_info": {
   "codemirror_mode": {
    "name": "ipython",
    "version": 3
   },
   "file_extension": ".py",
   "mimetype": "text/x-python",
   "name": "python",
   "nbconvert_exporter": "python",
   "pygments_lexer": "ipython3",
   "version": "3.8.15 | packaged by conda-forge | (default, Nov 22 2022, 08:53:40) \n[Clang 14.0.6 ]"
  },
  "orig_nbformat": 4,
  "vscode": {
   "interpreter": {
    "hash": "7eb9b6b1fb77286985d7ef6cf8b0dfbd531ac70f036ca08e2e5d4ac226026142"
   }
  }
 },
 "nbformat": 4,
 "nbformat_minor": 2
}
